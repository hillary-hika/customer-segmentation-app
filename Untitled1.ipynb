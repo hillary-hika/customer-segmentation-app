{
 "cells": [
  {
   "cell_type": "code",
   "execution_count": 2,
   "id": "ef90a790-cd11-40e2-9c57-df5dcbd4fd1b",
   "metadata": {},
   "outputs": [
    {
     "name": "stdout",
     "output_type": "stream",
     "text": [
      "C:\\Users\\Hillary\\Desktop\\Web Development\n",
      "['.ipynb_checkpoints', 'app.py', 'customer_segmentation_model.pkl', 'Django', 'HTML-CSS Basics', 'paynal-prajik', 'Python Basics', 'Techie', 'Techie.zip', 'Untitled.ipynb', 'Untitled1.ipynb', 'Yummy']\n"
     ]
    }
   ],
   "source": [
    "import os\n",
    "print(os.getcwd())  # This shows the current working directory\n",
    "print(os.listdir())  # This lists all files in the directory\n"
   ]
  }
 ],
 "metadata": {
  "kernelspec": {
   "display_name": "Python 3 (ipykernel)",
   "language": "python",
   "name": "python3"
  },
  "language_info": {
   "codemirror_mode": {
    "name": "ipython",
    "version": 3
   },
   "file_extension": ".py",
   "mimetype": "text/x-python",
   "name": "python",
   "nbconvert_exporter": "python",
   "pygments_lexer": "ipython3",
   "version": "3.13.0"
  }
 },
 "nbformat": 4,
 "nbformat_minor": 5
}
